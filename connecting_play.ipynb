{
 "cells": [
  {
   "cell_type": "code",
   "execution_count": null,
   "metadata": {
    "collapsed": false
   },
   "outputs": [],
   "source": [
    "import pysec\n",
    "import pandas as pd\n",
    "\n",
    "\n",
    "from bs4 import BeautifulSoup\n",
    "import urllib2\n",
    "import re\n",
    "\n",
    "short_cik = '51143';\n",
    "long_cik  = '0000051143';\n",
    "\n",
    "tenq = pysec.util.edgar_utilies.get_acc_table({'cik': long_cik ,  'qk' : 'q'})\n",
    "tenk = pysec.util.edgar_utilies.get_acc_table({'cik': short_cik , 'qk' : 'k'})\n",
    "\n",
    "final_df = pd.concat([tenk,tenq])\n",
    "final_df.reset_index(inplace=True)\n",
    "final_df.drop(\"index\",axis=1,inplace=True)\n",
    "\n",
    "def secinfo (s,a):    return 'https://www.sec.gov/cgi-bin/viewer?action=view&cik=%s&accession_number=%s' % (s,a)\n",
    "def sectableHTML(s,a,d):  return 'https://www.sec.gov/Archives/edgar/data/%s/%s/R%s.htm' % (s,a,d)\n",
    "def sectableXML(s,a,d):   return 'https://www.sec.gov/Archives/edgar/data/%s/%s/R%s.xml' % (s,a,d)\n",
    "def secxrbl (s,a,d):  return 'https://www.sec.gov/Archives/edgar/data/%s/%s/%s' % (s,a,d)\n",
    "def secfilelist(s,a): return 'https://www.sec.gov/Archives/edgar/data/%s/%s' % (s,a)"
   ]
  },
  {
   "cell_type": "code",
   "execution_count": null,
   "metadata": {
    "collapsed": false
   },
   "outputs": [],
   "source": [
    "final_df"
   ]
  },
  {
   "cell_type": "code",
   "execution_count": null,
   "metadata": {
    "collapsed": false
   },
   "outputs": [],
   "source": [
    "import stupidxbrl\n",
    "import urllib2\n",
    "import re\n",
    "XBRL_REGEX = re.compile('^[a-zA-Z]+-[0-9]{8}.xml$')\n",
    "\n",
    "def builder(row):\n",
    "    page = urllib2.urlopen(secfilelist(short_cik,pysec.util.edgar_utilies.remove_dashes_acc(row['Acc'])))\n",
    "    soup = BeautifulSoup(page,'lxml')\n",
    "    \n",
    "    f = ''\n",
    "    for a in soup.find_all('a'): \n",
    "        if XBRL_REGEX.search(a.text) is not None: \n",
    "            f = a.text; \n",
    "            break;\n",
    "    \n",
    "    s = stupidxbrl.stupidXBRL(urllib2.urlopen(secxrbl(short_cik,\n",
    "                                                      pysec.util.edgar_utilies.remove_dashes_acc(row['Acc'])\n",
    "                                                      ,f)))\n",
    "    s.Build()\n",
    "    return s"
   ]
  },
  {
   "cell_type": "code",
   "execution_count": null,
   "metadata": {
    "collapsed": false
   },
   "outputs": [],
   "source": [
    "final_df"
   ]
  },
  {
   "cell_type": "code",
   "execution_count": null,
   "metadata": {
    "collapsed": false
   },
   "outputs": [],
   "source": [
    "final_df['sxbrl'] = final_df.apply(builder,axis=1)"
   ]
  },
  {
   "cell_type": "code",
   "execution_count": null,
   "metadata": {
    "collapsed": false
   },
   "outputs": [],
   "source": [
    "# Really annoying, sec changed from XML to HTML between 2011 and 2012 which means need\n",
    "# to write another parser to parse XML instead of this one... i'm steaming ATM\n",
    "\n",
    "def gaapconversion(row):\n",
    "    \n",
    "    #page = urllib2.urlopen(secinfo(short_cik,\n",
    "    #                               pysec.util.edgar_utilies.remove_dashes_acc(row['Acc'])))\n",
    "    #soup = BeautifulSoup(page,\"lxml\")\n",
    "    #\n",
    "    #statements = {}\n",
    "    #for i in soup.find_all(class_='xbrlviewer'):\n",
    "    #    match = re.search(\"loadReport\\(([0-9]+)\\)\",i.attrs['href'])\n",
    "    #    if match is not None:\n",
    "    #        statements[i.text] = match.group(1)\n",
    "    #        \n",
    "    #statement_data = {}\n",
    "    #print statements\n",
    "    \n",
    "    #for key in statements:\n",
    "    fff = 2\n",
    "    data = {}\n",
    "    curr_abstract = ''\n",
    "    HTML = True\n",
    "    page2=None\n",
    "    try:\n",
    "        page2 = urllib2.urlopen(sectableHTML(short_cik,\n",
    "                                             pysec.util.edgar_utilies.remove_dashes_acc(row['Acc']),\n",
    "                                             fff))\n",
    "        \n",
    "    except urllib2.HTTPError:\n",
    "        page2 = urllib2.urlopen(sectableXML(short_cik,\n",
    "                                             pysec.util.edgar_utilies.remove_dashes_acc(row['Acc']),\n",
    "                                             fff-1)) \n",
    "        HTML = False\n",
    "        pass\n",
    "        \n",
    "    if HTML :\n",
    "        soup2 = BeautifulSoup(page2,\"lxml\")\n",
    "\n",
    "        \n",
    "        data = {}\n",
    "        curr_abstract = ''\n",
    "        for f in soup2.find_all(class_=\"pl\"):\n",
    "    \n",
    "            fmatch = re.search(\"defref\\_((us-gaap|ibm|dei)\\_[a-zA-Z]+)\",f.a['onclick']).group(1).split(\"_\")\n",
    "\n",
    "            if re.search(\"Abstract\",fmatch[1]) is not None:\n",
    "                curr_abstract = f.text.rstrip(\":\")\n",
    "               \n",
    "            if data.has_key(curr_abstract):\n",
    "                data[curr_abstract][f.text] = fmatch\n",
    "            else:\n",
    "                data[curr_abstract] = {}\n",
    "        \n",
    "        \n",
    "    \n",
    "    else:\n",
    "        soup2 = BeautifulSoup(page2,\"lxml-xml\")\n",
    "        \n",
    "        for raw in soup2.find(\"Rows\").find_all(\"Row\"):\n",
    "            \n",
    "            if re.search(\"Abstract\",raw.ElementName.text) is not None:\n",
    "                curr_abstract = raw.Label.text.rstrip(\":\")\n",
    "                print curr_abstract\n",
    "               \n",
    "            if data.has_key(curr_abstract):\n",
    "                data[curr_abstract][raw.Label.text] = raw.ElementName.text\n",
    "            else:\n",
    "                data[curr_abstract] = {}\n",
    "    \n",
    "    return data"
   ]
  },
  {
   "cell_type": "code",
   "execution_count": null,
   "metadata": {
    "collapsed": false,
    "scrolled": false
   },
   "outputs": [],
   "source": [
    "final_df['aaa'] = final_df.apply(gaapconversion,axis=1)"
   ]
  },
  {
   "cell_type": "code",
   "execution_count": null,
   "metadata": {
    "collapsed": false
   },
   "outputs": [],
   "source": [
    "c = 0;\n",
    "for i in final_df.aaa: \n",
    "    if i is not None: \n",
    "        print final_df.iloc[c].sxbrl.gaap[i['Revenue']['Sales'][1]].keys()\n",
    "    c += 1"
   ]
  },
  {
   "cell_type": "code",
   "execution_count": null,
   "metadata": {
    "collapsed": false
   },
   "outputs": [],
   "source": [
    "final_df.iloc[0].sxbrl.gaap"
   ]
  },
  {
   "cell_type": "code",
   "execution_count": null,
   "metadata": {
    "collapsed": false
   },
   "outputs": [],
   "source": []
  },
  {
   "cell_type": "code",
   "execution_count": null,
   "metadata": {
    "collapsed": false
   },
   "outputs": [],
   "source": [
    "f"
   ]
  },
  {
   "cell_type": "code",
   "execution_count": null,
   "metadata": {
    "collapsed": false
   },
   "outputs": [],
   "source": [
    "print secxrbl(short_cik,'000104746915001106',f)\n",
    "s = stupidxbrl.stupidXBRL(urllib2.urlopen(secxrbl(short_cik,'000104746915001106',f)))"
   ]
  },
  {
   "cell_type": "code",
   "execution_count": null,
   "metadata": {
    "collapsed": false
   },
   "outputs": [],
   "source": [
    "final_df.iloc[0].aaa['Revenue']"
   ]
  },
  {
   "cell_type": "code",
   "execution_count": null,
   "metadata": {
    "collapsed": false
   },
   "outputs": [],
   "source": [
    "for i in final_df.aaa: \n",
    "    if i is not None: \n",
    "        if 'Revenue' not in i.keys():\n",
    "            print i\n",
    "    c += 1"
   ]
  },
  {
   "cell_type": "code",
   "execution_count": null,
   "metadata": {
    "collapsed": false
   },
   "outputs": [],
   "source": [
    "for i in final_df.index:\n",
    "    print final_df.ix[i].conversion()\n",
    "    print ''"
   ]
  },
  {
   "cell_type": "code",
   "execution_count": null,
   "metadata": {
    "collapsed": false
   },
   "outputs": [],
   "source": [
    "s.document.keys()"
   ]
  },
  {
   "cell_type": "code",
   "execution_count": null,
   "metadata": {
    "collapsed": true
   },
   "outputs": [],
   "source": []
  }
 ],
 "metadata": {
  "kernelspec": {
   "display_name": "Python 2",
   "language": "python",
   "name": "python2"
  },
  "language_info": {
   "codemirror_mode": {
    "name": "ipython",
    "version": 2
   },
   "file_extension": ".py",
   "mimetype": "text/x-python",
   "name": "python",
   "nbconvert_exporter": "python",
   "pygments_lexer": "ipython2",
   "version": "2.7.5"
  }
 },
 "nbformat": 4,
 "nbformat_minor": 0
}
