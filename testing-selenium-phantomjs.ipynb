{
 "cells": [
  {
   "cell_type": "code",
   "execution_count": null,
   "metadata": {
    "collapsed": true
   },
   "outputs": [],
   "source": [
    "from bs4 import BeautifulSoup\n",
    "import urllib2\n",
    "#import selenium"
   ]
  },
  {
   "cell_type": "code",
   "execution_count": null,
   "metadata": {
    "collapsed": false
   },
   "outputs": [],
   "source": [
    "#soup = BeautifulSoup(open(\"/Network/Servers/pg1.phys.columbia.edu/Users/Shared/vg2337/Downloads/ibm-20140630.xml\"),\"lxml-xml\")\n",
    "url = \"https://www.sec.gov/cgi-bin/viewer?action=view&cik=51143&accession_number=0001047469-15-001106\"\n",
    "page = urllib2.urlopen(url)\n",
    "soup = BeautifulSoup(page,\"lxml\")\n",
    "import re"
   ]
  },
  {
   "cell_type": "code",
   "execution_count": null,
   "metadata": {
    "collapsed": false
   },
   "outputs": [],
   "source": [
    "for i in soup.find_all(class_='xbrlviewer'):\n",
    "    #print i.text,i.attrs['href']\n",
    "    match = re.search(\"loadReport\\(([0-9]+)\\)\",i.attrs['href'])\n",
    "    if match is not None:\n",
    "        print i.text,match.group(1)"
   ]
  },
  {
   "cell_type": "code",
   "execution_count": null,
   "metadata": {
    "collapsed": true
   },
   "outputs": [],
   "source": [
    "page2 = urllib2.urlopen(\"https://www.sec.gov/Archives/edgar/data/51143/000104746915001106/R2.htm\")\n",
    "soup2 = BeautifulSoup(page2,\"lxml\")"
   ]
  },
  {
   "cell_type": "code",
   "execution_count": null,
   "metadata": {
    "collapsed": false
   },
   "outputs": [],
   "source": [
    "data = {}\n",
    "curr_abstract = ''\n",
    "subheading = []\n",
    "import re\n",
    "for f in soup2.find_all(class_=\"pl\"):\n",
    "    fmatch = re.search(\"defref\\_((us-gaap|ibm)\\_[a-zA-Z]+)\",f.a['onclick']).group(1).split(\"_\")\n",
    "    \n",
    "    match  = re.search(\"Abstract\",fmatch[1])\n",
    "    if match is not None:\n",
    "        curr_abstract = f.text\n",
    "   \n",
    "    if data.has_key(curr_abstract):\n",
    "        data[curr_abstract].append({ f.text : fmatch })\n",
    "    else:\n",
    "        data[curr_abstract] = [{ f.text : fmatch },]\n",
    "    \n"
   ]
  },
  {
   "cell_type": "code",
   "execution_count": null,
   "metadata": {
    "collapsed": false
   },
   "outputs": [],
   "source": [
    "%pprint"
   ]
  },
  {
   "cell_type": "code",
   "execution_count": null,
   "metadata": {
    "collapsed": false
   },
   "outputs": [],
   "source": [
    "import json"
   ]
  },
  {
   "cell_type": "code",
   "execution_count": null,
   "metadata": {
    "collapsed": false
   },
   "outputs": [],
   "source": [
    "json.dumps(data)"
   ]
  },
  {
   "cell_type": "code",
   "execution_count": null,
   "metadata": {
    "collapsed": false
   },
   "outputs": [],
   "source": [
    "from selenium import webdriver\n",
    "driver = webdriver.PhantomJS()"
   ]
  },
  {
   "cell_type": "code",
   "execution_count": null,
   "metadata": {
    "collapsed": false
   },
   "outputs": [],
   "source": [
    "driver.get(\"https://www.sec.gov/cgi-bin/viewer?action=view&cik=51143&accession_number=0001047469-15-001106\")"
   ]
  },
  {
   "cell_type": "code",
   "execution_count": null,
   "metadata": {
    "collapsed": false
   },
   "outputs": [],
   "source": [
    "soup = BeautifulSoup(driver.page_source,\"lxml\")\n",
    "print soup"
   ]
  },
  {
   "cell_type": "code",
   "execution_count": null,
   "metadata": {
    "collapsed": false
   },
   "outputs": [],
   "source": [
    "element    = driver.find_element_by_id(\"menu\")\n",
    "accordians = element.find_elements_by_class_name(\"accordion\")\n",
    "#accordians.click()\n",
    "print element.text.split(\"\\n\")\n",
    "len(accordians)\n",
    "fstatements = filter(lambda x : x.text == \"Financial Statements\",accordians)[0]\n",
    "driver.get_screenshot_as_file(\"/Users/vgenty/Desktop/aho.png\")"
   ]
  },
  {
   "cell_type": "code",
   "execution_count": null,
   "metadata": {
    "collapsed": false
   },
   "outputs": [],
   "source": [
    "print fstatements.click()\n",
    "driver.get_screenshot_as_file(\"/Users/vgenty/Desktop/aho.png\")"
   ]
  },
  {
   "cell_type": "code",
   "execution_count": null,
   "metadata": {
    "collapsed": false
   },
   "outputs": [],
   "source": [
    "element    = driver.find_element_by_id(\"menu_cat2\")\n",
    "accordians = element.find_elements_by_class_name(\"xbrlviewer\")\n",
    "print element.text.split(\"\\n\")\n",
    "len(accordians)"
   ]
  },
  {
   "cell_type": "code",
   "execution_count": null,
   "metadata": {
    "collapsed": false
   },
   "outputs": [],
   "source": [
    "element    = driver.find_element_by_id(\"menu\")\n",
    "reports    = element.find_elements_by_class_name(\"xbrlviewer\")"
   ]
  },
  {
   "cell_type": "code",
   "execution_count": null,
   "metadata": {
    "collapsed": false,
    "scrolled": true
   },
   "outputs": [],
   "source": [
    "for a in reports: \n",
    "    print a.get_attribute(\"text\"), a.get_attribute(\"href\")"
   ]
  },
  {
   "cell_type": "code",
   "execution_count": null,
   "metadata": {
    "collapsed": false
   },
   "outputs": [],
   "source": [
    "driver.execute_script(\"loadReport(2);\")"
   ]
  },
  {
   "cell_type": "code",
   "execution_count": null,
   "metadata": {
    "collapsed": false
   },
   "outputs": [],
   "source": [
    "driver.save_screenshot(\"/Users/vgenty/Desktop/current.png\")"
   ]
  },
  {
   "cell_type": "code",
   "execution_count": null,
   "metadata": {
    "collapsed": false
   },
   "outputs": [],
   "source": [
    "soup = BeautifulSoup(driver.page_source,\"lxml\")"
   ]
  },
  {
   "cell_type": "code",
   "execution_count": null,
   "metadata": {
    "collapsed": false
   },
   "outputs": [],
   "source": [
    "report = soup.find(id=\"reportDiv\")"
   ]
  },
  {
   "cell_type": "code",
   "execution_count": null,
   "metadata": {
    "collapsed": false
   },
   "outputs": [],
   "source": []
  },
  {
   "cell_type": "code",
   "execution_count": null,
   "metadata": {
    "collapsed": false
   },
   "outputs": [],
   "source": [
    "accordians"
   ]
  },
  {
   "cell_type": "code",
   "execution_count": null,
   "metadata": {
    "collapsed": false
   },
   "outputs": [],
   "source": [
    "contexts = {}\n",
    "for context in xbrl_contexts: \n",
    "    period = context.findChildren(name='period')[0]\n",
    "    \n",
    "    if period.startDate is not None:\n",
    "        contexts[context.attrs['id']] = {'period' : {'startDate' : period.startDate.contents[0],\n",
    "                                                     'endDate' : period.endDate.contents[0]\n",
    "                                                },\n",
    "                                          'type'    : 'range'}\n",
    "    if period.instant is not None:\n",
    "        contexts[context.attrs['id']] = {'period' : {'Date' : period.instant.contents[0] },\n",
    "                                          'type'   : 'instant'}"
   ]
  },
  {
   "cell_type": "code",
   "execution_count": null,
   "metadata": {
    "collapsed": false
   },
   "outputs": [],
   "source": [
    "import pandas as pd\n",
    "contexts_df=pd.DataFrame(contexts)"
   ]
  },
  {
   "cell_type": "code",
   "execution_count": null,
   "metadata": {
    "collapsed": false
   },
   "outputs": [],
   "source": [
    "contexts_df"
   ]
  },
  {
   "cell_type": "code",
   "execution_count": null,
   "metadata": {
    "collapsed": false
   },
   "outputs": [],
   "source": [
    "#aho = soup.findAll(id=re.compile('ID_[0-9]+'))[0]\n",
    "#aho1 = soup.findAll(lambda tag : tag.prefix == 'dei')\n",
    "aho2 = soup.findAll(lambda tag : tag.prefix == 'us-gaap')"
   ]
  },
  {
   "cell_type": "code",
   "execution_count": null,
   "metadata": {
    "collapsed": false
   },
   "outputs": [],
   "source": [
    "document_info = {}\n",
    "for dei in soup.findAll(lambda tag : tag.prefix == 'dei' and re.search('ID_[0-9]+',tag.attrs['id']) is not None):\n",
    "    document_info[dei.name] = {'attrs' : dei.attrs , 'value' : dei.contents}"
   ]
  },
  {
   "cell_type": "code",
   "execution_count": null,
   "metadata": {
    "collapsed": false
   },
   "outputs": [],
   "source": [
    "document_df = pd.DataFrame(document_info)"
   ]
  },
  {
   "cell_type": "code",
   "execution_count": null,
   "metadata": {
    "collapsed": false
   },
   "outputs": [],
   "source": [
    "document_df"
   ]
  },
  {
   "cell_type": "code",
   "execution_count": null,
   "metadata": {
    "collapsed": false
   },
   "outputs": [],
   "source": [
    "gaap_info = {}\n",
    "for gaap in soup.findAll(lambda tag : tag.prefix == 'us-gaap' and re.search('ID_[0-9]+',tag.attrs['id']) is not None and re.search('TextBlock$',tag.name) is not None):\n",
    "    gaap_info[gaap.name] = {'attrs' : gaap.attrs , 'value' : gaap.contents}"
   ]
  },
  {
   "cell_type": "code",
   "execution_count": null,
   "metadata": {
    "collapsed": false
   },
   "outputs": [],
   "source": [
    "gaap_df = pd.DataFrame(gaap_info)"
   ]
  },
  {
   "cell_type": "code",
   "execution_count": null,
   "metadata": {
    "collapsed": false
   },
   "outputs": [],
   "source": [
    "gaap_df"
   ]
  },
  {
   "cell_type": "code",
   "execution_count": null,
   "metadata": {
    "collapsed": true
   },
   "outputs": [],
   "source": [
    "special_info = {}\n",
    "for special in soup.findAll(lambda tag : tag.prefix == 'ibm' and re.search('ID_[0-9]+',tag.attrs['id']) is not None):\n",
    "    special_info[special.name] = {'attrs' : special.attrs , 'value' : special.contents}"
   ]
  },
  {
   "cell_type": "code",
   "execution_count": null,
   "metadata": {
    "collapsed": true
   },
   "outputs": [],
   "source": [
    "special_df = pd.DataFrame(special_info)"
   ]
  },
  {
   "cell_type": "code",
   "execution_count": null,
   "metadata": {
    "collapsed": false
   },
   "outputs": [],
   "source": [
    "special_df"
   ]
  },
  {
   "cell_type": "code",
   "execution_count": null,
   "metadata": {
    "collapsed": true
   },
   "outputs": [],
   "source": []
  }
 ],
 "metadata": {
  "kernelspec": {
   "display_name": "Python 2",
   "language": "python",
   "name": "python2"
  },
  "language_info": {
   "codemirror_mode": {
    "name": "ipython",
    "version": 2
   },
   "file_extension": ".py",
   "mimetype": "text/x-python",
   "name": "python",
   "nbconvert_exporter": "python",
   "pygments_lexer": "ipython2",
   "version": "2.7.5"
  }
 },
 "nbformat": 4,
 "nbformat_minor": 0
}
