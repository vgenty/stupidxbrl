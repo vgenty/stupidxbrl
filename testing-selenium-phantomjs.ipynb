{
 "cells": [
  {
   "cell_type": "code",
   "execution_count": 1,
   "metadata": {
    "collapsed": true
   },
   "outputs": [],
   "source": [
    "from bs4 import BeautifulSoup\n",
    "import urllib2"
   ]
  },
  {
   "cell_type": "code",
   "execution_count": 2,
   "metadata": {
    "collapsed": false
   },
   "outputs": [],
   "source": [
    "#soup = BeautifulSoup(open(\"/Network/Servers/pg1.phys.columbia.edu/Users/Shared/vg2337/Downloads/ibm-20140630.xml\"),\"lxml-xml\")\n",
    "url = \"https://www.sec.gov/cgi-bin/viewer?action=view&cik=51143&accession_number=0001047469-15-001106\"\n",
    "page = urllib2.urlopen(url)\n",
    "soup = BeautifulSoup(page,\"lxml\")\n",
    "import re"
   ]
  },
  {
   "cell_type": "code",
   "execution_count": 3,
   "metadata": {
    "collapsed": false
   },
   "outputs": [
    {
     "name": "stdout",
     "output_type": "stream",
     "text": [
      "Document and Entity Information 1\n",
      "Consolidated Statement of Earnings 2\n",
      "Consolidated Statement of Comprehensive Income 3\n",
      "Consolidated Statement of Financial Position 4\n",
      "Consolidated Statement of Financial Position (Parenthetical) 5\n",
      "Consolidated Statement of Cash Flows 6\n",
      "Consolidated Statement of Changes in Equity 7\n",
      "Consolidated Statement of Changes in Equity (Parenthetical) 8\n",
      "Significant Accounting Policies 9\n",
      "Accounting Changes 10\n",
      "Acquisitions/Divestitures 11\n",
      "Financial Instruments 12\n",
      "Inventories 13\n",
      "Financing Receivables 14\n",
      "Property, Plant and Equipment 15\n",
      "Investments and Sundry Assets 16\n",
      "Intangible Assets Including Goodwill 17\n",
      "Borrowings 18\n",
      "Other Liabilities 19\n",
      "Equity Activity 20\n",
      "Contingencies and Commitments 21\n",
      "Taxes 22\n",
      "Research, Development and Engineering 23\n",
      "Earnings Per Share of Common Stock 24\n",
      "Rental Expense and Lease Commitments 25\n",
      "Stock-Based Compensation 26\n",
      "Retirement-Related Benefits 27\n",
      "Segment Information 28\n",
      "Subsequent Events 29\n",
      "SCHEDULE II VALUATION AND QUALIFYING ACCOUNTS AND RESERVES 30\n",
      "Significant Accounting Policies (Policies) 31\n",
      "Significant Accounting Policies (Tables) 32\n",
      "Acquisitions/Divestitures (Tables) 33\n",
      "Financial Instruments (Tables) 34\n",
      "Inventories (Tables) 35\n",
      "Financing Receivables (Tables) 36\n",
      "Property, Plant and Equipment (Tables) 37\n",
      "Investments and Sundry Assets (Tables) 38\n",
      "Intangible Assets Including Goodwill (Tables) 39\n",
      "Borrowings (Tables) 40\n",
      "Other Liabilities (Tables) 41\n",
      "Equity Activity (Tables) 42\n",
      "Taxes (Tables) 43\n",
      "Earnings Per Share of Common Stock (Tables) 44\n",
      "Rental Expense and Lease Commitments (Tables) 45\n",
      "Stock-Based Compensation (Tables) 46\n",
      "Retirement-Related Benefits (Tables) 47\n",
      "Segment Information (Tables) 48\n",
      "Significant Accounting Policies (Narratives) (Details 1) 49\n",
      "Significant Accounting Policies (Standard Warranty and Extended Warranty Tables) (Details 2) 50\n",
      "Significant Accounting Policies (Standard Warranty and Extended Warranty Tables) (Details 3) 51\n",
      "Significant Accounting Policies (Details 4) 52\n",
      "Significant Accounting Policies (Details 5) 53\n",
      "Acquisitions/Divestitures (Details 1) 54\n",
      "Acquisitions/Divestitures (Purchase Price Allocation) (Details 2) 55\n",
      "Acquisitions/Divestitures (Divestiture) (Details 3) 56\n",
      "Acquisitions/Divestitures (Divestiture) (Details 4) 57\n",
      "Acquisitions/Divestitures (Divestiture) (Details 5) 58\n",
      "Acquisitions/Divestitures (Divestiture) (Details 6) 59\n",
      "Financial Instruments (Assets and Liabilities Measured on Recurring Basis Table) (Details 1) 60\n",
      "Financial Instruments (Debt and Marketable Equity Securities Table) (Details 2) 61\n",
      "Financial Instruments (Fair Value of Derivative Instruments Table) (Details 3) 62\n",
      "Financial Instruments (Narratives) (Details 4) 63\n",
      "Financial Instruments (Effect of Derivative Instruments Table) (Details 5) 64\n",
      "Inventories (Details) 65\n",
      "Financing Receivables (Details 1) 66\n",
      "Financing Receivables (Details 2) 67\n",
      "Financing Receivables (Details 3) 68\n",
      "Financing Receivables (Details 4) 69\n",
      "Financing Receivables (Details 5) 70\n",
      "Financing Receivables (Details 6) 71\n",
      "Financing Receivables (Details 7) 72\n",
      "Property, Plant and Equipment (Details) 73\n",
      "Investments and Sundry Assets (Details) 74\n",
      "Intangible Assets Including Goodwill (Details 1) 75\n",
      "Intangible Assets Including Goodwill (Details 2) 76\n",
      "Intangible Assets Including Goodwill (Details 3) 77\n",
      "Borrowings (Short Term Debt Table) (Details 1) 78\n",
      "Borrowings (Pre Swap Borrowing Table) (Details2) 79\n",
      "Borrowings (Pre Swap Borrowing Table) (Details 3) 80\n",
      "Borrowings (Post Swap Borrowing Tables) (Details 4) 81\n",
      "Borrowings (Pre-Swap annual contractual maturities) (Details 5) 82\n",
      "Borrowings (Interest on Debt) (Details 7) 83\n",
      "Other Liabilities (Narratives) (Details 1) 84\n",
      "Other Liabilities (Other Liabilities Reconciliation) (Details 2) 85\n",
      "Equity Activity (Narratives) (Detail 1) 86\n",
      "Equity Activity (Reclassification and Taxes Related Tables) (Details 2) 87\n",
      "Equity Activity (Reclassification and Taxes Related Tables Calculations) (Details 3) 88\n",
      "Equity Activity (AOCI Table) (Details 4) 89\n",
      "Contingencies and Commitments (Contingencies) (Details 1) 90\n",
      "Contingencies and Commitments (Commitments) (Details 2) 91\n",
      "Taxes (Narratives) (Details 1) 92\n",
      "Taxes (Income before Income Taxes) (Details 2) 93\n",
      "Taxes (Provision for Income Taxes) (Details 3) 94\n",
      "Taxes (Component of Income Tax Provision) (Details 4) 95\n",
      "Taxes (Reconciliation of Tax Rates) (Details 5) 96\n",
      "Taxes (Reconciliation of Tax Rates Narratives) (Details 6) 97\n",
      "Taxes (Deferred Taxes) (Details 7) 98\n",
      "Taxes (Unrecognized Tax Benefit) (Details 8) 99\n",
      "Research, Development and Engineering (Details) 100\n",
      "Earnings Per Share of Common Stock (Details) 101\n",
      "Rental Expense and Lease Commitments (Details) 102\n",
      "Stock-Based Compensation (Narratives) (Details 1) 103\n",
      "Stock-Based Compensation (Stock-based Compensation Table) (Details 2) 104\n",
      "Stock-Based Compensation (RSU,PSU) (Details 3) 105\n",
      "Stock-Based Compensation (Option Activity Summary) (Details 4) 106\n",
      "Stock-Based Compensation (Exercise Price Range) (Details 5) 107\n",
      "Retirement-Related Benefits (Details 1) 108\n",
      "Retirement-Related Benefits (Net Periodic Income Cost) (Details 2) 109\n",
      "Retirement-Related Benefits (PBO, APBO, FV of Plan Assets, and Funded Status) (Details 3) 110\n",
      "Retirement-Related Benefits (Components of Net Period Income Cost) (Details 4) 111\n",
      "Retirement-Related Benefits (Changes in Benefit Obliation and Plan Assets, and Funded Status) (Details 5) 112\n",
      "Retirement-Related Benefits (Funded Status) (Details 6) 113\n",
      "Retirement-Related Benefits (OCI and AOCI) (Details 7) 114\n",
      "Retirement-Related Benefits (Assumptions) (Details 8) 115\n",
      "Retirement-Related Benefits (Pension Plan Assets) (Details 9) 116\n",
      "Retirement-Related Benefits (Reconciliation of Level 3 Assets) (Details 10) 117\n",
      "Retirement-Related Benefits (Pensions Expected Payments) (Details 11) 118\n",
      "Retirement-Related Benefits (Plans with ABO in Excess of Plan Assets) (Details 12) 119\n",
      "Segments (Segment Table) (Details 1) 120\n",
      "Segments (Revenue Reconciliation) (Details 2) 121\n",
      "Segments (Operating Profit Reconciliation) (Details 3) 122\n",
      "Segments (Management System Segment View) (Details 4) 123\n",
      "Segments (Asset Reconciliation) (Details 5) 124\n",
      "Segments (Revenue and Plant Property Equipment by Countries) (Details 6) 125\n",
      "Segments (External Revenue by Segments) (Details 7) 126\n",
      "Subsequent Events (Details) 127\n",
      "VALUATION AND QUALIFYING ACCOUNTS AND RESERVES (Details) 128\n"
     ]
    }
   ],
   "source": [
    "for i in soup.find_all(class_='xbrlviewer'):\n",
    "    #print i.text,i.attrs['href']\n",
    "    match = re.search(\"loadReport\\(([0-9]+)\\)\",i.attrs['href'])\n",
    "    if match is not None:\n",
    "        print i.text,match.group(1)"
   ]
  },
  {
   "cell_type": "code",
   "execution_count": 4,
   "metadata": {
    "collapsed": true
   },
   "outputs": [],
   "source": [
    "page2 = urllib2.urlopen(\"https://www.sec.gov/Archives/edgar/data/51143/000104746915001106/R2.htm\")\n",
    "soup2 = BeautifulSoup(page2,\"lxml\")"
   ]
  },
  {
   "cell_type": "code",
   "execution_count": 5,
   "metadata": {
    "collapsed": false
   },
   "outputs": [],
   "source": [
    "data = {}\n",
    "curr_abstract = ''\n",
    "subheading = []\n",
    "import re\n",
    "for f in soup2.find_all(class_=\"pl\"):\n",
    "    fmatch = re.search(\"defref\\_((us-gaap|ibm)\\_[a-zA-Z]+)\",f.a['onclick']).group(1).split(\"_\")\n",
    "    \n",
    "    match  = re.search(\"Abstract\",fmatch[1])\n",
    "    if match is not None:\n",
    "        curr_abstract = f.text\n",
    "   \n",
    "    if data.has_key(curr_abstract):\n",
    "        data[curr_abstract].append({ f.text : fmatch })\n",
    "    else:\n",
    "        data[curr_abstract] = [{ f.text : fmatch },]\n",
    "    \n"
   ]
  },
  {
   "cell_type": "code",
   "execution_count": 7,
   "metadata": {
    "collapsed": false
   },
   "outputs": [
    {
     "name": "stdout",
     "output_type": "stream",
     "text": [
      "Pretty printing has been turned ON\n"
     ]
    }
   ],
   "source": [
    "%pprint"
   ]
  },
  {
   "cell_type": "code",
   "execution_count": 8,
   "metadata": {
    "collapsed": false
   },
   "outputs": [],
   "source": [
    "import json"
   ]
  },
  {
   "cell_type": "code",
   "execution_count": 9,
   "metadata": {
    "collapsed": false
   },
   "outputs": [
    {
     "data": {
      "text/plain": [
       "'{\"Revenue\": [{\"Revenue\": [\"us-gaap\", \"RevenuesAbstract\"]}, {\"Services\": [\"us-gaap\", \"SalesRevenueServicesNet\"]}, {\"Sales\": [\"us-gaap\", \"SalesRevenueGoodsNet\"]}, {\"Financing\": [\"us-gaap\", \"FinancialServicesRevenue\"]}, {\"Total revenue (Note T)\": [\"us-gaap\", \"Revenues\"]}], \"Cost\": [{\"Cost\": [\"us-gaap\", \"CostOfRevenueAbstract\"]}, {\"Services\": [\"us-gaap\", \"CostOfServices\"]}, {\"Sales\": [\"us-gaap\", \"CostOfGoodsSold\"]}, {\"Financing\": [\"us-gaap\", \"FinancialServicesCosts\"]}, {\"Total cost\": [\"us-gaap\", \"CostOfRevenue\"]}, {\"Gross profit\": [\"us-gaap\", \"GrossProfit\"]}], \"Weighted-average number of common shares outstanding\": [{\"Weighted-average number of common shares outstanding\": [\"us-gaap\", \"WeightedAverageNumberOfSharesOutstandingAbstract\"]}, {\"Assuming dilution (in shares)\": [\"us-gaap\", \"WeightedAverageNumberOfDilutedSharesOutstanding\"]}, {\"Basic (in shares)\": [\"us-gaap\", \"WeightedAverageNumberOfSharesOutstandingBasic\"]}], \"Basic\": [{\"Basic\": [\"us-gaap\", \"EarningsPerShareBasicAbstract\"]}, {\"Continuing operations (in dollars per share) (Note P)\": [\"us-gaap\", \"IncomeLossFromContinuingOperationsPerBasicShare\"]}, {\"Discontinued operations (in dollars per share) (Note P)\": [\"us-gaap\", \"IncomeLossFromDiscontinuedOperationsNetOfTaxPerBasicShare\"]}, {\"Total (in dollars per share) (Note P)\": [\"us-gaap\", \"EarningsPerShareBasic\"]}], \"Discontinued operations:\": [{\"Discontinued operations:\": [\"us-gaap\", \"IncomeLossFromDiscontinuedOperationsNetOfTaxAbstract\"]}, {\"Loss from discontinued operations, net of tax (Note C)\": [\"us-gaap\", \"IncomeLossFromDiscontinuedOperationsNetOfTax\"]}, {\"Net income\": [\"us-gaap\", \"ProfitLoss\"]}], \"Expense and other (income)\": [{\"Expense and other (income)\": [\"ibm\", \"ExpenseAndOtherIncomeAbstract\"]}, {\"Selling, general and administrative\": [\"us-gaap\", \"SellingGeneralAndAdministrativeExpense\"]}, {\"Research, development and engineering (Note O)\": [\"us-gaap\", \"ResearchAndDevelopmentExpense\"]}, {\"Intellectual property and custom development income\": [\"ibm\", \"IntellectualPropertyAndCustomDevelopmentIncome\"]}, {\"Other (income) and expense\": [\"ibm\", \"OtherIncomeAndExpense\"]}, {\"Interest expense (Note D&J)\": [\"us-gaap\", \"InterestExpense\"]}, {\"Total expense and other (income)\": [\"ibm\", \"ExpenseAndOtherIncome\"]}, {\"Income from continuing operations before income taxes\": [\"us-gaap\", \"IncomeLossFromContinuingOperationsBeforeIncomeTaxesExtraordinaryItemsNoncontrollingInterest\"]}, {\"Provision for income taxes (Note N)\": [\"us-gaap\", \"IncomeTaxExpenseBenefit\"]}, {\"Income from continuing operations\": [\"us-gaap\", \"IncomeLossFromContinuingOperationsIncludingPortionAttributableToNoncontrollingInterest\"]}], \"Assuming dilution\": [{\"Assuming dilution\": [\"us-gaap\", \"EarningsPerShareDilutedAbstract\"]}, {\"Continuing operations (in dollars per share) (Note P)\": [\"us-gaap\", \"IncomeLossFromContinuingOperationsPerDilutedShare\"]}, {\"Discontinued operations (in dollars per share) (Note P)\": [\"us-gaap\", \"IncomeLossFromDiscontinuedOperationsNetOfTaxPerDilutedShare\"]}, {\"Total (in dollars per share) (Note P)\": [\"us-gaap\", \"EarningsPerShareDiluted\"]}]}'"
      ]
     },
     "execution_count": 9,
     "metadata": {},
     "output_type": "execute_result"
    }
   ],
   "source": [
    "json.dumps(data)"
   ]
  },
  {
   "cell_type": "code",
   "execution_count": null,
   "metadata": {
    "collapsed": false
   },
   "outputs": [],
   "source": [
    "from selenium import webdriver\n",
    "driver = webdriver.PhantomJS()"
   ]
  },
  {
   "cell_type": "code",
   "execution_count": null,
   "metadata": {
    "collapsed": false
   },
   "outputs": [],
   "source": [
    "driver.get(\"https://www.sec.gov/cgi-bin/viewer?action=view&cik=51143&accession_number=0001047469-15-001106\")"
   ]
  },
  {
   "cell_type": "code",
   "execution_count": null,
   "metadata": {
    "collapsed": false
   },
   "outputs": [],
   "source": [
    "soup = BeautifulSoup(driver.page_source,\"lxml\")\n",
    "print soup"
   ]
  },
  {
   "cell_type": "code",
   "execution_count": null,
   "metadata": {
    "collapsed": false
   },
   "outputs": [],
   "source": [
    "element    = driver.find_element_by_id(\"menu\")\n",
    "accordians = element.find_elements_by_class_name(\"accordion\")\n",
    "#accordians.click()\n",
    "print element.text.split(\"\\n\")\n",
    "len(accordians)\n",
    "fstatements = filter(lambda x : x.text == \"Financial Statements\",accordians)[0]\n",
    "driver.get_screenshot_as_file(\"/Users/vgenty/Desktop/aho.png\")"
   ]
  },
  {
   "cell_type": "code",
   "execution_count": null,
   "metadata": {
    "collapsed": false
   },
   "outputs": [],
   "source": [
    "print fstatements.click()\n",
    "driver.get_screenshot_as_file(\"/Users/vgenty/Desktop/aho.png\")"
   ]
  },
  {
   "cell_type": "code",
   "execution_count": null,
   "metadata": {
    "collapsed": false
   },
   "outputs": [],
   "source": [
    "element    = driver.find_element_by_id(\"menu_cat2\")\n",
    "accordians = element.find_elements_by_class_name(\"xbrlviewer\")\n",
    "print element.text.split(\"\\n\")\n",
    "len(accordians)"
   ]
  },
  {
   "cell_type": "code",
   "execution_count": null,
   "metadata": {
    "collapsed": false
   },
   "outputs": [],
   "source": [
    "element    = driver.find_element_by_id(\"menu\")\n",
    "reports    = element.find_elements_by_class_name(\"xbrlviewer\")"
   ]
  },
  {
   "cell_type": "code",
   "execution_count": null,
   "metadata": {
    "collapsed": false,
    "scrolled": true
   },
   "outputs": [],
   "source": [
    "for a in reports: \n",
    "    print a.get_attribute(\"text\"), a.get_attribute(\"href\")"
   ]
  },
  {
   "cell_type": "code",
   "execution_count": null,
   "metadata": {
    "collapsed": false
   },
   "outputs": [],
   "source": [
    "driver.execute_script(\"loadReport(2);\")"
   ]
  },
  {
   "cell_type": "code",
   "execution_count": null,
   "metadata": {
    "collapsed": false
   },
   "outputs": [],
   "source": [
    "driver.save_screenshot(\"/Users/vgenty/Desktop/current.png\")"
   ]
  },
  {
   "cell_type": "code",
   "execution_count": null,
   "metadata": {
    "collapsed": false
   },
   "outputs": [],
   "source": [
    "soup = BeautifulSoup(driver.page_source,\"lxml\")"
   ]
  },
  {
   "cell_type": "code",
   "execution_count": null,
   "metadata": {
    "collapsed": false
   },
   "outputs": [],
   "source": [
    "report = soup.find(id=\"reportDiv\")"
   ]
  },
  {
   "cell_type": "code",
   "execution_count": null,
   "metadata": {
    "collapsed": false
   },
   "outputs": [],
   "source": []
  },
  {
   "cell_type": "code",
   "execution_count": null,
   "metadata": {
    "collapsed": false
   },
   "outputs": [],
   "source": [
    "accordians"
   ]
  },
  {
   "cell_type": "code",
   "execution_count": null,
   "metadata": {
    "collapsed": false
   },
   "outputs": [],
   "source": [
    "contexts = {}\n",
    "for context in xbrl_contexts: \n",
    "    period = context.findChildren(name='period')[0]\n",
    "    \n",
    "    if period.startDate is not None:\n",
    "        contexts[context.attrs['id']] = {'period' : {'startDate' : period.startDate.contents[0],\n",
    "                                                     'endDate' : period.endDate.contents[0]\n",
    "                                                },\n",
    "                                          'type'    : 'range'}\n",
    "    if period.instant is not None:\n",
    "        contexts[context.attrs['id']] = {'period' : {'Date' : period.instant.contents[0] },\n",
    "                                          'type'   : 'instant'}"
   ]
  },
  {
   "cell_type": "code",
   "execution_count": null,
   "metadata": {
    "collapsed": false
   },
   "outputs": [],
   "source": [
    "import pandas as pd\n",
    "contexts_df=pd.DataFrame(contexts)"
   ]
  },
  {
   "cell_type": "code",
   "execution_count": null,
   "metadata": {
    "collapsed": false
   },
   "outputs": [],
   "source": [
    "contexts_df"
   ]
  },
  {
   "cell_type": "code",
   "execution_count": null,
   "metadata": {
    "collapsed": false
   },
   "outputs": [],
   "source": [
    "#aho = soup.findAll(id=re.compile('ID_[0-9]+'))[0]\n",
    "#aho1 = soup.findAll(lambda tag : tag.prefix == 'dei')\n",
    "aho2 = soup.findAll(lambda tag : tag.prefix == 'us-gaap')"
   ]
  },
  {
   "cell_type": "code",
   "execution_count": null,
   "metadata": {
    "collapsed": false
   },
   "outputs": [],
   "source": [
    "document_info = {}\n",
    "for dei in soup.findAll(lambda tag : tag.prefix == 'dei' and re.search('ID_[0-9]+',tag.attrs['id']) is not None):\n",
    "    document_info[dei.name] = {'attrs' : dei.attrs , 'value' : dei.contents}"
   ]
  },
  {
   "cell_type": "code",
   "execution_count": null,
   "metadata": {
    "collapsed": false
   },
   "outputs": [],
   "source": [
    "document_df = pd.DataFrame(document_info)"
   ]
  },
  {
   "cell_type": "code",
   "execution_count": null,
   "metadata": {
    "collapsed": false
   },
   "outputs": [],
   "source": [
    "document_df"
   ]
  },
  {
   "cell_type": "code",
   "execution_count": null,
   "metadata": {
    "collapsed": false
   },
   "outputs": [],
   "source": [
    "gaap_info = {}\n",
    "for gaap in soup.findAll(lambda tag : tag.prefix == 'us-gaap' and re.search('ID_[0-9]+',tag.attrs['id']) is not None and re.search('TextBlock$',tag.name) is not None):\n",
    "    gaap_info[gaap.name] = {'attrs' : gaap.attrs , 'value' : gaap.contents}"
   ]
  },
  {
   "cell_type": "code",
   "execution_count": null,
   "metadata": {
    "collapsed": false
   },
   "outputs": [],
   "source": [
    "gaap_df = pd.DataFrame(gaap_info)"
   ]
  },
  {
   "cell_type": "code",
   "execution_count": null,
   "metadata": {
    "collapsed": false
   },
   "outputs": [],
   "source": [
    "gaap_df"
   ]
  },
  {
   "cell_type": "code",
   "execution_count": null,
   "metadata": {
    "collapsed": true
   },
   "outputs": [],
   "source": [
    "special_info = {}\n",
    "for special in soup.findAll(lambda tag : tag.prefix == 'ibm' and re.search('ID_[0-9]+',tag.attrs['id']) is not None):\n",
    "    special_info[special.name] = {'attrs' : special.attrs , 'value' : special.contents}"
   ]
  },
  {
   "cell_type": "code",
   "execution_count": null,
   "metadata": {
    "collapsed": true
   },
   "outputs": [],
   "source": [
    "special_df = pd.DataFrame(special_info)"
   ]
  },
  {
   "cell_type": "code",
   "execution_count": null,
   "metadata": {
    "collapsed": false
   },
   "outputs": [],
   "source": [
    "special_df"
   ]
  },
  {
   "cell_type": "code",
   "execution_count": null,
   "metadata": {
    "collapsed": true
   },
   "outputs": [],
   "source": []
  }
 ],
 "metadata": {
  "kernelspec": {
   "display_name": "Python 2",
   "language": "python",
   "name": "python2"
  },
  "language_info": {
   "codemirror_mode": {
    "name": "ipython",
    "version": 2
   },
   "file_extension": ".py",
   "mimetype": "text/x-python",
   "name": "python",
   "nbconvert_exporter": "python",
   "pygments_lexer": "ipython2",
   "version": "2.7.10"
  }
 },
 "nbformat": 4,
 "nbformat_minor": 0
}
