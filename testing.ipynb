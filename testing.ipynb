{
 "cells": [
  {
   "cell_type": "code",
   "execution_count": 1,
   "metadata": {
    "collapsed": true
   },
   "outputs": [],
   "source": [
    "from bs4 import BeautifulSoup"
   ]
  },
  {
   "cell_type": "code",
   "execution_count": null,
   "metadata": {
    "collapsed": false
   },
   "outputs": [],
   "source": [
    "#soup = BeautifulSoup(open(\"/Network/Servers/pg1.phys.columbia.edu/Users/Shared/vg2337/Downloads/ibm-20140630.xml\"),\"lxml-xml\")\n",
    "soup = BeautifulSoup(open(\"/Network/Servers/pg1.phys.columbia.edu/Users/Shared/vg2337/Downloads/ibm-20140630.xm1l\"),\"lxml-xml\")"
   ]
  },
  {
   "cell_type": "code",
   "execution_count": null,
   "metadata": {
    "collapsed": false
   },
   "outputs": [],
   "source": [
    "try :\n",
    "    a = 1/0\n",
    "except ZeroDivisionError:\n",
    "    print 'AHOAHO'\n",
    "    raise\n"
   ]
  },
  {
   "cell_type": "code",
   "execution_count": null,
   "metadata": {
    "collapsed": false
   },
   "outputs": [],
   "source": [
    "aho = soup.findAll(id=re.compile('ID_[0-9]+'))[0]\n",
    "aho1 = soup.findAll(lambda tag : tag.prefix == 'dei')\n",
    "aho2 = soup.findAll(lambda tag : tag.prefix == 'us-gaap')\n",
    "print aho1\n",
    "#print aho2"
   ]
  },
  {
   "cell_type": "code",
   "execution_count": null,
   "metadata": {
    "collapsed": false
   },
   "outputs": [],
   "source": [
    "aho.attrs['id']"
   ]
  },
  {
   "cell_type": "code",
   "execution_count": null,
   "metadata": {
    "collapsed": false
   },
   "outputs": [],
   "source": [
    "aho.contents"
   ]
  },
  {
   "cell_type": "code",
   "execution_count": null,
   "metadata": {
    "collapsed": false
   },
   "outputs": [],
   "source": [
    "aho.prefix"
   ]
  },
  {
   "cell_type": "code",
   "execution_count": null,
   "metadata": {
    "collapsed": false
   },
   "outputs": [],
   "source": [
    "aho.name"
   ]
  },
  {
   "cell_type": "code",
   "execution_count": null,
   "metadata": {
    "collapsed": false
   },
   "outputs": [],
   "source": [
    "a = soup.findAll(lambda tag : tag.prefix == 'xbrli' and tag.name == 'context')[0]\n",
    "b = soup.findAll(lambda tag : tag.prefix == 'xbrli' and tag.name == 'context')[1]"
   ]
  },
  {
   "cell_type": "code",
   "execution_count": null,
   "metadata": {
    "collapsed": false
   },
   "outputs": [],
   "source": [
    "print a"
   ]
  },
  {
   "cell_type": "code",
   "execution_count": null,
   "metadata": {
    "collapsed": false
   },
   "outputs": [],
   "source": [
    "aho1 = a.findChildren(name='period')[0]\n",
    "aho2 = b.findChildren(name='period')[0]"
   ]
  },
  {
   "cell_type": "code",
   "execution_count": null,
   "metadata": {
    "collapsed": false
   },
   "outputs": [],
   "source": [
    "#print aho1.startDate.contents[0]; print aho1.endDate.contents[0]; print aho2.instant\n",
    "print aho2.startDate.contents[0]; print aho2.endDate.contents[0]; print aho2.instant"
   ]
  },
  {
   "cell_type": "code",
   "execution_count": null,
   "metadata": {
    "collapsed": false
   },
   "outputs": [],
   "source": [
    "print aho1.instant.contents[0]"
   ]
  },
  {
   "cell_type": "code",
   "execution_count": null,
   "metadata": {
    "collapsed": false
   },
   "outputs": [],
   "source": [
    "#find the FIRST prefix of non us-gaap ID_=XXX, we use this to parse the rest of the IDs...\n",
    "extra_prefix = soup.find(lambda tag : tag.prefix != 'us-gaap' and \n",
    "             tag.prefix != 'dei'\n",
    "             and 'id' in tag.attrs \n",
    "             and re.search('ID_[0-9]+',tag.attrs['id']) is not None).prefix"
   ]
  },
  {
   "cell_type": "code",
   "execution_count": null,
   "metadata": {
    "collapsed": true
   },
   "outputs": [],
   "source": [
    "xbrl_contexts = soup.findAll(lambda tag : tag.prefix == 'xbrli' and tag.name == 'context')"
   ]
  },
  {
   "cell_type": "code",
   "execution_count": null,
   "metadata": {
    "collapsed": false
   },
   "outputs": [],
   "source": [
    "contexts = {}\n",
    "for context in xbrl_contexts: \n",
    "    period = context.findChildren(name='period')[0]\n",
    "    \n",
    "    if period.startDate is not None:\n",
    "        contexts[context.attrs['id']] = {'period' : {'startDate' : period.startDate.contents[0],\n",
    "                                                     'endDate' : period.endDate.contents[0]\n",
    "                                                },\n",
    "                                          'type'    : 'range'}\n",
    "    if period.instant is not None:\n",
    "        contexts[context.attrs['id']] = {'period' : {'Date' : period.instant.contents[0] },\n",
    "                                          'type'   : 'instant'}"
   ]
  },
  {
   "cell_type": "code",
   "execution_count": null,
   "metadata": {
    "collapsed": false
   },
   "outputs": [],
   "source": [
    "import pandas as pd\n",
    "contexts_df=pd.DataFrame(contexts)"
   ]
  },
  {
   "cell_type": "code",
   "execution_count": null,
   "metadata": {
    "collapsed": false
   },
   "outputs": [],
   "source": [
    "contexts_df"
   ]
  },
  {
   "cell_type": "code",
   "execution_count": null,
   "metadata": {
    "collapsed": false
   },
   "outputs": [],
   "source": [
    "#aho = soup.findAll(id=re.compile('ID_[0-9]+'))[0]\n",
    "#aho1 = soup.findAll(lambda tag : tag.prefix == 'dei')\n",
    "aho2 = soup.findAll(lambda tag : tag.prefix == 'us-gaap')"
   ]
  },
  {
   "cell_type": "code",
   "execution_count": null,
   "metadata": {
    "collapsed": false
   },
   "outputs": [],
   "source": [
    "document_info = {}\n",
    "for dei in soup.findAll(lambda tag : tag.prefix == 'dei' and re.search('ID_[0-9]+',tag.attrs['id']) is not None):\n",
    "    document_info[dei.name] = {'attrs' : dei.attrs , 'value' : dei.contents}"
   ]
  },
  {
   "cell_type": "code",
   "execution_count": null,
   "metadata": {
    "collapsed": false
   },
   "outputs": [],
   "source": [
    "document_df = pd.DataFrame(document_info)"
   ]
  },
  {
   "cell_type": "code",
   "execution_count": null,
   "metadata": {
    "collapsed": false
   },
   "outputs": [],
   "source": [
    "document_df"
   ]
  },
  {
   "cell_type": "code",
   "execution_count": null,
   "metadata": {
    "collapsed": false
   },
   "outputs": [],
   "source": [
    "gaap_info = {}\n",
    "for gaap in soup.findAll(lambda tag : tag.prefix == 'us-gaap' and re.search('ID_[0-9]+',tag.attrs['id']) is not None and re.search('TextBlock$',tag.name) is not None):\n",
    "    gaap_info[gaap.name] = {'attrs' : gaap.attrs , 'value' : gaap.contents}"
   ]
  },
  {
   "cell_type": "code",
   "execution_count": null,
   "metadata": {
    "collapsed": false
   },
   "outputs": [],
   "source": [
    "gaap_df = pd.DataFrame(gaap_info)"
   ]
  },
  {
   "cell_type": "code",
   "execution_count": null,
   "metadata": {
    "collapsed": false
   },
   "outputs": [],
   "source": [
    "gaap_df"
   ]
  },
  {
   "cell_type": "code",
   "execution_count": null,
   "metadata": {
    "collapsed": true
   },
   "outputs": [],
   "source": [
    "special_info = {}\n",
    "for special in soup.findAll(lambda tag : tag.prefix == 'ibm' and re.search('ID_[0-9]+',tag.attrs['id']) is not None):\n",
    "    special_info[special.name] = {'attrs' : special.attrs , 'value' : special.contents}"
   ]
  },
  {
   "cell_type": "code",
   "execution_count": null,
   "metadata": {
    "collapsed": true
   },
   "outputs": [],
   "source": [
    "special_df = pd.DataFrame(special_info)"
   ]
  },
  {
   "cell_type": "code",
   "execution_count": null,
   "metadata": {
    "collapsed": false
   },
   "outputs": [],
   "source": [
    "special_df"
   ]
  },
  {
   "cell_type": "code",
   "execution_count": null,
   "metadata": {
    "collapsed": true
   },
   "outputs": [],
   "source": [
    "https://www.sec.gov/cgi-bin/viewer?action=view&cik=51143&accession_number=0001047469-15-001106"
   ]
  }
 ],
 "metadata": {
  "kernelspec": {
   "display_name": "Python 2",
   "language": "python",
   "name": "python2"
  },
  "language_info": {
   "codemirror_mode": {
    "name": "ipython",
    "version": 2
   },
   "file_extension": ".py",
   "mimetype": "text/x-python",
   "name": "python",
   "nbconvert_exporter": "python",
   "pygments_lexer": "ipython2",
   "version": "2.7.5"
  }
 },
 "nbformat": 4,
 "nbformat_minor": 0
}
